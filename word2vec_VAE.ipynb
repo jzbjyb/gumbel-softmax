{
 "cells": [
  {
   "cell_type": "markdown",
   "metadata": {
    "collapsed": true
   },
   "source": [
    "# use VAE to generate word embedding"
   ]
  },
  {
   "cell_type": "markdown",
   "metadata": {},
   "source": [
    "the input sample is the PMI signature of the word"
   ]
  },
  {
   "cell_type": "markdown",
   "metadata": {},
   "source": [
    "## 1. Imports and Helper Functions"
   ]
  },
  {
   "cell_type": "code",
   "execution_count": 1,
   "metadata": {
    "collapsed": true
   },
   "outputs": [],
   "source": [
    "import tensorflow as tf\n",
    "import matplotlib.pyplot as plt\n",
    "import numpy as np\n",
    "from scipy.sparse import csr_matrix\n",
    "import scipy.spatial.distance as dist\n",
    "import scipy.stats as stats\n",
    "from functools import reduce\n",
    "import math\n",
    "from sklearn.feature_extraction.text import CountVectorizer\n",
    "from sklearn.decomposition import TruncatedSVD\n",
    "from sklearn.manifold import TSNE\n",
    "import nltk\n",
    "from nltk.collocations import BigramCollocationFinder, BigramAssocMeasures\n",
    "%matplotlib inline\n",
    "slim=tf.contrib.slim\n",
    "Normal = tf.contrib.distributions.Normal\n",
    "Bernoulli = tf.contrib.distributions.Bernoulli"
   ]
  },
  {
   "cell_type": "code",
   "execution_count": 2,
   "metadata": {
    "collapsed": true
   },
   "outputs": [],
   "source": [
    "def sample_gumbel(shape, eps=1e-20): \n",
    "  \"\"\"Sample from Gumbel(0, 1)\"\"\"\n",
    "  U = tf.random_uniform(shape,minval=0,maxval=1)\n",
    "  return -tf.log(-tf.log(U + eps) + eps)\n",
    "\n",
    "def gumbel_softmax_sample(logits, temperature): \n",
    "  \"\"\" Draw a sample from the Gumbel-Softmax distribution\"\"\"\n",
    "  y = logits + sample_gumbel(tf.shape(logits))\n",
    "  return tf.nn.softmax( y / temperature)\n",
    "\n",
    "def gumbel_softmax(logits, temperature, hard=False):\n",
    "  \"\"\"Sample from the Gumbel-Softmax distribution and optionally discretize.\n",
    "  Args:\n",
    "    logits: [batch_size, n_class] unnormalized log-probs\n",
    "    temperature: non-negative scalar\n",
    "    hard: if True, take argmax, but differentiate w.r.t. soft sample y\n",
    "  Returns:\n",
    "    [batch_size, n_class] sample from the Gumbel-Softmax distribution.\n",
    "    If hard=True, then the returned sample will be one-hot, otherwise it will\n",
    "    be a probabilitiy distribution that sums to 1 across classes\n",
    "  \"\"\"\n",
    "  y = gumbel_softmax_sample(logits, temperature)\n",
    "  if hard:\n",
    "    k = tf.shape(logits)[-1]\n",
    "    #y_hard = tf.cast(tf.one_hot(tf.argmax(y,1),k), y.dtype)\n",
    "    y_hard = tf.cast(tf.equal(y,tf.reduce_max(y,1,keep_dims=True)),y.dtype)\n",
    "    y = tf.stop_gradient(y_hard - y) + y\n",
    "  return y"
   ]
  },
  {
   "cell_type": "code",
   "execution_count": 3,
   "metadata": {
    "collapsed": true
   },
   "outputs": [],
   "source": [
    "class Vocab(object):\n",
    "    def __init__(self):\n",
    "        self.BOS = '<s>'\n",
    "        self.EOS = '</s>'\n",
    "        self.UNK = '<unk>'\n",
    "        self.ngram = [1]\n",
    "\n",
    "    def build_from_files(self, train_files, test_files=[]):\n",
    "        if type(train_files) is not list or type(test_files) is not list:\n",
    "            raise ValueError('build_from_files input type error')\n",
    "\n",
    "        print(\"build vocabulary from files ...\")\n",
    "        self.word_cnt = {self.EOS: 0, self.UNK: 0}\n",
    "        self.char_cnt = {self.EOS: 0, self.UNK: 0}\n",
    "        self.word_size = 1\n",
    "        self.train_word = set()\n",
    "        for _tag, _file in list(map(lambda f: ('train', f), train_files)) + list(map(lambda f: ('test', f), test_files)):\n",
    "            line_num = 0\n",
    "            for line in open(_file):\n",
    "                line_num += 1\n",
    "                for w in line.strip().split():\n",
    "                    if _tag == 'train':\n",
    "                        self.train_word.add(w)\n",
    "                    if w in self.word_cnt:\n",
    "                        self.word_cnt[w] += 1\n",
    "                    else:\n",
    "                        self.word_cnt[w] = 1\n",
    "                    if w == self.UNK:\n",
    "                        self.char_cnt[w] += 1\n",
    "                    else:\n",
    "                        self.word_size = max(self.word_size, len(w))\n",
    "                        for c in list(w):\n",
    "                            if c not in self.char_cnt:\n",
    "                                self.char_cnt[c] = 1\n",
    "                            else:\n",
    "                                self.char_cnt[c] += 1\n",
    "            if line_num > 0 and _tag == 'train':\n",
    "                self.train_word.add(self.EOS)\n",
    "            self.word_cnt[self.EOS] += line_num\n",
    "            self.char_cnt[self.EOS] += line_num\n",
    "        word_count_pairs = sorted(self.word_cnt.items(), key=lambda x: (-x[1], x[0]))\n",
    "        self.words, _ = list(zip(*word_count_pairs))\n",
    "        char_count_pairs = sorted(self.char_cnt.items(), key=lambda x: (-x[1], x[0]))\n",
    "        self.chars, _ = list(zip(*char_count_pairs))\n",
    "\n",
    "        self.word2id = dict(zip(self.words, range(len(self.words))))\n",
    "        self.char2id = dict(zip(self.chars, range(len(self.chars))))\n",
    "        self.UNK_ID = self.word2id[self.UNK]\n",
    "        print('vocab size: {}, train vocab size: {}, OOV size: {}'.format(\n",
    "            self.size(), len(self.train_word), self.size() - len(self.train_word)))\n",
    "        print('char size: {} with max length {}'.format(self.char_size(), self.word_size))\n",
    "\n",
    "        self.pre_emb = self.build_pre_emb(ngram=self.ngram)\n",
    "        print('pre emb size with ngram {}: {}'.format(self.ngram, self.pre_emb.shape[1]))\n",
    "\n",
    "    def build_pre_emb(self, ngram=[3]):\n",
    "        def split_by_ngram(w, valid=None, ngram=[3]):\n",
    "            sens = []\n",
    "            for ng in ngram:\n",
    "                if w == self.BOS or w == self.EOS:\n",
    "                    return '#END_NGRAM'\n",
    "                if w == self.UNK:\n",
    "                    return '#UNKNOWN_NGRAM'\n",
    "                ws = list('#' + w + '#')\n",
    "                sen = ' '.join([''.join(ws[i:i+ng]) if not valid or ''.join(ws[i:i+ng]) in valid else '#UNKNOWN_NGRAM'\n",
    "                                for i in range(max(len(ws) - ng + 1, 1))])\n",
    "                sens.append(sen)\n",
    "            return ' '.join(sens)\n",
    "        valid_ngram = [split_by_ngram(w, ngram=ngram) for w in self.train_word]\n",
    "        valid_ngram = reduce(lambda t,x: t | set(x.split()), valid_ngram, set())\n",
    "        ngram = [split_by_ngram(w, valid=valid_ngram, ngram=ngram) for w in self.words]\n",
    "        vectorizer = CountVectorizer(min_df=1, binary=True, token_pattern=r'\\b[\\S]+\\b')\n",
    "        return vectorizer.fit_transform(ngram).toarray().astype(np.float32)\n",
    "\n",
    "    def encode(self, sentence):\n",
    "        if type(sentence) is not list:\n",
    "            w = sentence\n",
    "            return self.word2id[w] if w in self.word2id else self.UNK_ID\n",
    "        return [self.word2id[w] if w in self.word2id else self.UNK_ID for w in sentence]\n",
    "\n",
    "    def decode(self, ids):\n",
    "        if type(ids) is not list:\n",
    "            _id = ids\n",
    "            return self.words[_id]\n",
    "        return [self.words[_id] for _id in ids]\n",
    "\n",
    "    def encode_word(self, word):\n",
    "        result = [0] * self.word_size\n",
    "        if word == self.UNK or word == self.EOS:\n",
    "            result[0] = self.char2id[word]\n",
    "            length = 1\n",
    "        else:\n",
    "            length = len(word)\n",
    "            for i in range(length):\n",
    "                result[i] = self.char2id[word[i]] \\\n",
    "                    if word[i] in self.char2id else self.char2id[self.UNK]\n",
    "        return result, length\n",
    "\n",
    "    def decode_word(self, ids):\n",
    "        return ''.join([self.chars[_id] for _id in ids])\n",
    "\n",
    "    def size(self):\n",
    "        return len(self.words)\n",
    "\n",
    "    def char_size(self):\n",
    "        return len(self.chars)\n",
    "\n",
    "    def word2id(self):\n",
    "        return self.word2id"
   ]
  },
  {
   "cell_type": "markdown",
   "metadata": {},
   "source": [
    "## 2. Load Data"
   ]
  },
  {
   "cell_type": "code",
   "execution_count": 4,
   "metadata": {
    "collapsed": true
   },
   "outputs": [],
   "source": [
    "text_file = '../WER/ptb_data/train.txt'\n",
    "#text_file = '../Tensorflow-101/notebooks/data/text8_50000'\n",
    "wordsim_file = '../wordsim353_sim_rel/wordsim_similarity_goldstandard.txt'"
   ]
  },
  {
   "cell_type": "code",
   "execution_count": 5,
   "metadata": {
    "collapsed": true
   },
   "outputs": [],
   "source": [
    "stopwords = nltk.corpus.stopwords.words('english')\n",
    "stopwords += ['<unk>', '</s>', 'mr.', \"'s\", 'N']\n",
    "stopwords = set(stopwords)"
   ]
  },
  {
   "cell_type": "code",
   "execution_count": 6,
   "metadata": {},
   "outputs": [
    {
     "name": "stdout",
     "output_type": "stream",
     "text": [
      "build vocabulary from files ...\n",
      "vocab size: 10000, train vocab size: 10000, OOV size: 0\n",
      "char size: 48 with max length 19\n",
      "pre emb size with ngram [1]: 38\n"
     ]
    }
   ],
   "source": [
    "vocab = Vocab()\n",
    "vocab.build_from_files(train_files=[text_file])"
   ]
  },
  {
   "cell_type": "code",
   "execution_count": 7,
   "metadata": {
    "collapsed": true
   },
   "outputs": [],
   "source": [
    "def load_wordsim(filename, vocab=None):\n",
    "    r = []\n",
    "    with open(filename, 'r') as fp:\n",
    "        for l in fp:\n",
    "            w1, w2, s = l.split()\n",
    "            if vocab != None and w1 in vocab and w2 in vocab:\n",
    "                r.append((w1, w2, float(s)))\n",
    "    return sorted(r, key=lambda x:-x[2])"
   ]
  },
  {
   "cell_type": "code",
   "execution_count": 8,
   "metadata": {},
   "outputs": [
    {
     "name": "stdout",
     "output_type": "stream",
     "text": [
      "test wordsim pair count: 131\n"
     ]
    }
   ],
   "source": [
    "wordsim = load_wordsim(wordsim_file, vocab=vocab.word2id)\n",
    "print('test wordsim pair count: %d' % len(wordsim))"
   ]
  },
  {
   "cell_type": "code",
   "execution_count": 9,
   "metadata": {
    "collapsed": true
   },
   "outputs": [],
   "source": [
    "def get_real_pmi(real_co_count, rescale=False):\n",
    "    bigram_dict = {}\n",
    "    unigram_dict = {}\n",
    "    total_N = 0\n",
    "    for bi, bi_count in real_co_count:\n",
    "        bi_count = math.sqrt(bi_count) if rescale else bi_count\n",
    "        if bi in bigram_dict:\n",
    "            bigram_dict[bi] += bi_count\n",
    "        elif (bi[1], bi[0]) in bigram_dict:\n",
    "            bigram_dict[(bi[1], bi[0])] += bi_count\n",
    "        else:\n",
    "            bigram_dict[bi] = bi_count\n",
    "        if bi[0] not in unigram_dict:\n",
    "            unigram_dict[bi[0]] = 0\n",
    "        if bi[1] not in unigram_dict:\n",
    "            unigram_dict[bi[1]] = 0\n",
    "        unigram_dict[bi[0]] += bi_count\n",
    "        unigram_dict[bi[1]] += bi_count\n",
    "        total_N += 2 * bi_count       \n",
    "    pmi = [(bi, math.log(bi_count * total_N / (unigram_dict[bi[0]] * unigram_dict[bi[1]])))\n",
    "           for bi,bi_count in bigram_dict.items()]\n",
    "    co_count = [(bi, bi_count) for bi,bi_count in bigram_dict.items()]\n",
    "    return pmi, co_count\n",
    "def pmi_from_text(text_file, vocab, stopwords={}, min_count=5, window_size=5, real=True, rescale=False):\n",
    "    docs = []\n",
    "    with open(text_file, 'r') as fp:\n",
    "        for line in fp:\n",
    "            sen = line.strip().split() + [vocab.EOS]\n",
    "            #sen2id = vocab.encode(sen)\n",
    "            docs.append([w for w in sen if w not in stopwords])\n",
    "    finder = BigramCollocationFinder.from_words(\n",
    "        BigramCollocationFinder._build_new_documents(\n",
    "            docs, window_size, pad_right=True), window_size=window_size)\n",
    "    print('build finder over')\n",
    "    finder.apply_freq_filter(min_count)\n",
    "    bigram_measures = BigramAssocMeasures()\n",
    "    pmi = finder.score_ngrams(bigram_measures.pmi)\n",
    "    print('finder score standard pmi')\n",
    "    co_count = finder.score_ngrams(lambda a,b,c: a)\n",
    "    print('finder score fake cocount')\n",
    "    real_co_count = finder.score_ngrams(lambda a,b,c: a * (window_size - 1))\n",
    "    print('finder score real cocount')\n",
    "    real_pmi, real_co_count = get_real_pmi(real_co_count, rescale=rescale)\n",
    "    if real:\n",
    "        return real_pmi, real_co_count, finder\n",
    "    return pmi, co_count, finder\n",
    "def build_pmi_matrix(pmi, vocab, binary=False, \n",
    "                     weighted_matrix_factorization=False,\n",
    "                     negative_sample=1):\n",
    "    row = [vocab.encode(it[0][0]) for it in pmi]\n",
    "    col = [vocab.encode(it[0][1]) for it in pmi]\n",
    "    data = [((math.exp(it[1]) / (math.exp(it[1]) + negative_sample))\n",
    "             if weighted_matrix_factorization else 1.0)\n",
    "            if binary else it[1] for it in pmi]\n",
    "    nrow = row + col\n",
    "    ncol = col + row\n",
    "    ndata = data + data\n",
    "    unrow, uncol, undata = [], [], []\n",
    "    uni = set()\n",
    "    for i in range(len(nrow)):\n",
    "        if (nrow[i], ncol[i]) not in uni:\n",
    "            uni.add((nrow[i], ncol[i]))\n",
    "            unrow.append(nrow[i])\n",
    "            uncol.append(ncol[i])\n",
    "            undata.append(ndata[i])  \n",
    "    #aa, bb = list(zip(*(list(set(list(zip(nrow, ncol)))))))\n",
    "    #nrow, ncol, ndata = list(zip(*(list(set(list(zip(nrow, ncol, ndata)))))))\n",
    "    matrix = csr_matrix((undata, (unrow, uncol)), \n",
    "                        shape=(vocab.size(), vocab.size()))\n",
    "    return matrix"
   ]
  },
  {
   "cell_type": "code",
   "execution_count": 10,
   "metadata": {
    "collapsed": true
   },
   "outputs": [],
   "source": [
    "BINARY = True\n",
    "N_COMPONENTS = 100\n",
    "USE_SVD = False\n",
    "WMF = True\n",
    "NS = 100"
   ]
  },
  {
   "cell_type": "code",
   "execution_count": 11,
   "metadata": {},
   "outputs": [
    {
     "name": "stdout",
     "output_type": "stream",
     "text": [
      "build finder over\n",
      "finder score standard pmi\n",
      "finder score fake cocount\n",
      "finder score real cocount\n",
      "build pmi over\n"
     ]
    }
   ],
   "source": [
    "pmi, co_count, finder = pmi_from_text(text_file, vocab, stopwords={}, \n",
    "                    min_count=1, window_size=3, real=True, rescale=False)\n",
    "print('build pmi over')\n",
    "matrix = build_pmi_matrix(pmi, vocab, binary=BINARY,\n",
    "                          weighted_matrix_factorization=WMF, negative_sample=NS)\n",
    "co_matrix = build_pmi_matrix(co_count, vocab, binary=False,\n",
    "                            weighted_matrix_factorization=False)"
   ]
  },
  {
   "cell_type": "code",
   "execution_count": 12,
   "metadata": {},
   "outputs": [
    {
     "name": "stdout",
     "output_type": "stream",
     "text": [
      "180455.466255\n",
      "9738.12539231 1302.67891893\n",
      "[('new', 35, 77.205754861028055), ('one', 54, 77.604341600988775), ('this', 39, 78.096638534852246), ('about', 43, 78.202632287867317), ('former', 337, 78.316347987483979), ('being', 213, 79.09129734949488), ('my', 406, 79.572807685344372), ('it', 14, 79.963383528950331), ('many', 97, 79.99502167985537), ('still', 147, 80.117288423852983), ('both', 179, 80.176968181540843), ('even', 113, 80.190228327644348), ('now', 99, 80.193027511967557), ('president', 70, 80.252351928834798), ('called', 340, 80.405242893756878), ('where', 251, 80.503829887169232), ('during', 198, 80.794330329530538), ('d.', 673, 81.294787822898272), ('or', 36, 81.41617001636493), ('another', 204, 81.831031691063814), ('under', 124, 82.617460810956686), ('those', 150, 82.723605014120338), ('no', 102, 82.99983930382713), ('them', 127, 83.931881112811908), ('between', 178, 84.120017342341626), ('among', 211, 84.961845278420014), ('out', 84, 85.434385455667453), ('whose', 624, 85.783592820134288), ('may', 93, 85.78650795250789), ('not', 63, 85.943033463299116), ('all', 73, 86.2322883807838), ('because', 76, 86.695634223875885), ('he', 28, 86.983469021327437), ('through', 148, 87.285847768832681), ('been', 58, 87.320341120748566), ('be', 25, 87.395936529556394), ('they', 38, 87.464003889466895), ('over', 94, 87.892931429739306), ('more', 45, 88.143064536604314), ('most', 90, 88.418779394556111), ('without', 349, 88.885045957209911), ('our', 228, 89.463187395677494), ('when', 67, 89.608680989498566), ('some', 57, 89.797228806963616), ('at', 18, 90.114087365590422), ('after', 78, 90.31886783731062), ('these', 144, 91.032446068086955), ('like', 166, 91.122382726687789), ('while', 120, 91.358547027644562), ('could', 79, 92.15765111390391), ('any', 106, 92.161581061444778), ('other', 61, 92.732702775554799), ('can', 89, 93.255285306718648), ('but', 29, 95.311746351314611), ('including', 210, 95.504379616814802), ('will', 33, 96.124908415405756), ('chairman', 141, 96.570279340359349), ('would', 42, 96.676971613089748), ('had', 50, 97.274271463635444), ('co.', 95, 99.115645007138468), ('have', 34, 99.315412413130588), ('from', 20, 99.846613337104486), ('also', 59, 100.23821877122715), ('her', 199, 100.6324385072586), ('said', 15, 102.67639849865638), ('against', 174, 103.50643631680846), ('as', 19, 103.86918613587031), ('such', 88, 104.12193348400341), (\"'\", 134, 104.89503120519913), ('which', 41, 105.00246865935374), ('were', 46, 105.70047960554575), ('was', 24, 105.97542367813597), ('in', 7, 108.46914730146973), ('&', 82, 108.78418002811259), ('to', 5, 109.56390591963846), ('corp.', 65, 109.69234301342286), ('<unk>', 1, 110.47251228984589), ('is', 13, 110.67726664906236), ('for', 11, 110.69574337471985), ('has', 30, 111.72588257418913), ('that', 10, 111.73760398332405), ('its', 27, 112.17600476796363), ('on', 16, 113.11970075131887), ('the', 0, 114.31533796783187), ('inc.', 80, 115.18445348326739), ('into', 91, 115.43666706876441), ('of', 4, 115.66327362172044), ('are', 26, 116.49277153010907), ('their', 51, 116.63133696680973), ('a', 6, 116.88445785650453), ('says', 44, 122.76113334711167), ('an', 31, 123.65258564202669), (\"'s\", 9, 124.67297481687963), ('his', 49, 124.88991007580718), ('with', 22, 125.84797585822589), ('who', 56, 126.1960838761059), ('</s>', 2, 129.13243544027111), ('by', 17, 135.3332477766551), ('and', 8, 139.96353346595842), ('mr.', 23, 150.22903863129397)]\n",
      "3445685.0\n",
      "1835305.0 996765.0\n",
      "[('federal', 100, 3268.0), ('many', 97, 3317.0), ('government', 98, 3389.0), ('there', 83, 3493.0), ('group', 96, 3526.0), ('most', 90, 3549.0), ('over', 94, 3697.0), ('co.', 95, 3699.0), ('may', 93, 3701.0), ('york', 92, 3735.0), ('into', 91, 3836.0), ('do', 87, 3844.0), ('such', 88, 3844.0), ('i', 68, 3871.0), ('can', 89, 3884.0), ('business', 85, 3886.0), ('only', 86, 3932.0), ('sales', 81, 4062.0), ('out', 84, 4158.0), ('&', 82, 4186.0), ('after', 78, 4189.0), ('if', 66, 4263.0), ('trading', 77, 4404.0), ('because', 76, 4432.0), ('we', 64, 4439.0), ('inc.', 80, 4443.0), ('could', 79, 4466.0), ('two', 75, 4491.0), ('first', 74, 4521.0), ('when', 67, 4561.0), ('all', 73, 4564.0), ('last', 69, 4623.0), ('years', 72, 4649.0), ('shares', 71, 4689.0), ('president', 70, 4815.0), ('corp.', 65, 4945.0), ('not', 63, 5620.0), ('share', 62, 5703.0), ('other', 61, 5885.0), ('some', 57, 5889.0), ('also', 59, 5999.0), ('stock', 60, 6244.0), ('one', 54, 6355.0), ('been', 58, 6665.0), ('who', 56, 6692.0), ('u.s.', 53, 6789.0), ('than', 55, 6887.0), ('up', 52, 7045.0), ('his', 49, 7092.0), ('billion', 48, 7187.0), ('their', 51, 7222.0), ('had', 50, 7284.0), ('market', 47, 7641.0), ('says', 44, 7825.0), ('were', 46, 7883.0), ('more', 45, 7999.0), ('about', 43, 8727.0), ('this', 39, 8752.0), ('year', 40, 8866.0), ('would', 42, 9076.0), ('they', 38, 9115.0), ('which', 41, 9334.0), ('company', 37, 10073.0), ('but', 29, 10544.0), ('or', 36, 10733.0), ('new', 35, 10751.0), ('he', 28, 12427.0), ('have', 34, 12779.0), ('will', 33, 12887.0), ('an', 31, 13498.0), (\"n't\", 32, 13508.0), ('has', 30, 13681.0), ('mr.', 23, 14323.0), ('its', 27, 15117.0), ('are', 26, 15253.0), ('be', 25, 15669.0), ('was', 24, 15891.0), ('million', 21, 17925.0), ('as', 19, 17929.0), ('with', 22, 17950.0), ('from', 20, 18735.0), ('at', 18, 18767.0), ('by', 17, 19252.0), ('it', 14, 21621.0), ('on', 16, 21996.0), ('said', 15, 22471.0), ('is', 13, 28520.0), ('$', 12, 29990.0), ('for', 11, 34546.0), ('that', 10, 34557.0), (\"'s\", 9, 37969.0), ('in', 7, 67799.0), ('and', 8, 68345.0), ('a', 6, 82238.0), ('</s>', 2, 84001.0), ('to', 5, 93670.0), ('of', 4, 96623.0), ('N', 3, 116525.0), ('<unk>', 1, 163423.0), ('the', 0, 186172.0)]\n"
     ]
    }
   ],
   "source": [
    "co_matrix_sum = np.array(co_matrix.sum(axis=1)).flatten()\n",
    "matrix_sum = np.array(matrix.sum(axis=1)).flatten()\n",
    "for mat in [matrix_sum, co_matrix_sum]:\n",
    "    argco = mat.argsort()\n",
    "    co = np.sort(mat)\n",
    "    print(sum(mat))\n",
    "    print(np.sum(co[-100:]), np.sum(co[-10:]))\n",
    "    print(list(zip([vocab.decode(wid) for wid in argco], argco, co))[-100:])"
   ]
  },
  {
   "cell_type": "code",
   "execution_count": 13,
   "metadata": {
    "collapsed": true
   },
   "outputs": [],
   "source": [
    "svd = TruncatedSVD(n_components=N_COMPONENTS)\n",
    "matrix_svd = svd.fit_transform(matrix)"
   ]
  },
  {
   "cell_type": "markdown",
   "metadata": {},
   "source": [
    "## 3. Build Model"
   ]
  },
  {
   "cell_type": "code",
   "execution_count": 51,
   "metadata": {
    "collapsed": true
   },
   "outputs": [],
   "source": [
    "USE_MODEL = 4\n",
    "tf.reset_default_graph()"
   ]
  },
  {
   "cell_type": "markdown",
   "metadata": {},
   "source": [
    "model 1: PMI VAE"
   ]
  },
  {
   "cell_type": "code",
   "execution_count": 52,
   "metadata": {
    "collapsed": true
   },
   "outputs": [],
   "source": [
    "K=10 # number of classes\n",
    "N=30 # number of categorical distributions"
   ]
  },
  {
   "cell_type": "code",
   "execution_count": 53,
   "metadata": {
    "collapsed": true
   },
   "outputs": [],
   "source": [
    "# input word x (shape=(batch_size, vocab size))\n",
    "x = tf.placeholder(tf.float32, [None, vocab.size()])\n",
    "x_ind = tf.placeholder(tf.int32, [None], name='word_index')\n",
    "x_ind_valid = tf.placeholder(tf.int32, [None], name='word_index_valid')\n",
    "x_svd = tf.placeholder(tf.float32, [None, N_COMPONENTS])\n",
    "x_weight = tf.placeholder(tf.float32, [None, vocab.size()])\n",
    "# variational posterior (encoder)\n",
    "if USE_SVD:\n",
    "    net = slim.stack(x_svd, slim.fully_connected, [256])\n",
    "else:\n",
    "    net = slim.stack(x, slim.fully_connected, [256])\n",
    "# unnormalized logits for N separate K-categorical distributions (shape=(batch_size*N,K))\n",
    "logits_y = tf.reshape(slim.fully_connected(net, K*N, activation_fn=None), [-1, K])\n",
    "q_y = tf.nn.softmax(logits_y)\n",
    "log_q_y = tf.log(q_y+1e-20)\n",
    "# temperature\n",
    "tau = tf.Variable(5.0, name='temperature')\n",
    "# sample and reshape back (shape=(batch_size,N,K))\n",
    "# set hard=True for ST Gumbel-Softmax\n",
    "y = tf.reshape(gumbel_softmax(logits_y, tau, hard=True), [-1, N, K])\n",
    "# generative model (decoder)\n",
    "net = slim.stack(slim.flatten(y), slim.fully_connected, [256])\n",
    "if USE_SVD and not BINARY:\n",
    "    scores = slim.fully_connected(net, N_COMPONENTS, activation_fn=None)\n",
    "else:\n",
    "    scores = slim.fully_connected(net, vocab.size(), activation_fn=None)\n",
    "# (shape=(batch_size,784))\n",
    "if BINARY:\n",
    "    p_x = Bernoulli(logits=scores)\n",
    "else:\n",
    "    p_x = Normal(mu=scores, sigma=.1)"
   ]
  },
  {
   "cell_type": "code",
   "execution_count": 54,
   "metadata": {
    "collapsed": true
   },
   "outputs": [],
   "source": [
    "# loss and train ops\n",
    "kl_tmp = tf.reshape(q_y * (log_q_y - tf.log(1.0 / K)), [-1, N, K])\n",
    "KL = tf.reduce_sum(kl_tmp, [1, 2])\n",
    "if USE_SVD and not BINARY:\n",
    "    elbo = tf.reduce_sum(p_x.log_prob(x_svd) * x_weight, 1) - KL\n",
    "else:\n",
    "    elbo = tf.reduce_sum(p_x.log_prob(x) * x_weight, 1) - KL"
   ]
  },
  {
   "cell_type": "code",
   "execution_count": 55,
   "metadata": {
    "collapsed": true
   },
   "outputs": [],
   "source": [
    "loss = tf.reduce_mean(-elbo)\n",
    "lr = tf.constant(0.001)\n",
    "train_op = tf.train.AdamOptimizer(learning_rate=lr).minimize(\n",
    "    loss, var_list=slim.get_model_variables())"
   ]
  },
  {
   "cell_type": "markdown",
   "metadata": {},
   "source": [
    "model 2: w2v VAE"
   ]
  },
  {
   "cell_type": "code",
   "execution_count": 56,
   "metadata": {
    "collapsed": true
   },
   "outputs": [],
   "source": [
    "N_EMB = 100"
   ]
  },
  {
   "cell_type": "code",
   "execution_count": 57,
   "metadata": {
    "collapsed": true
   },
   "outputs": [],
   "source": [
    "emb = tf.get_variable('emb', [vocab.size(), N_EMB], initializer=tf.random_uniform_initializer(-.1, .1))\n",
    "# normalize emb\n",
    "emb_norm = tf.sqrt(tf.reduce_sum(tf.square(emb), 1, keep_dims=True))\n",
    "normalized_emb = emb / emb_norm\n",
    "# valid emb\n",
    "valid_emb = tf.nn.embedding_lookup(normalized_emb, x_ind_valid)\n",
    "siml = tf.matmul(valid_emb, normalized_emb, transpose_b=True)\n",
    "temb = tf.nn.embedding_lookup(emb, x_ind)\n",
    "#temb = tf.matmul(x_ind, emb)\n",
    "#scores2 = tf.matmul(temb, tf.transpose(emb))\n",
    "scores2 = slim.fully_connected(temb, vocab.size(), activation_fn=None)\n",
    "p_x2 = Bernoulli(logits=scores2)"
   ]
  },
  {
   "cell_type": "code",
   "execution_count": 58,
   "metadata": {
    "collapsed": true
   },
   "outputs": [],
   "source": [
    "logloss = tf.reduce_sum(p_x2.log_prob(x) * x_weight, 1)\n",
    "loss2 = tf.reduce_mean(-logloss)\n",
    "train_op2 = tf.train.AdamOptimizer(learning_rate=lr).minimize(loss2)"
   ]
  },
  {
   "cell_type": "markdown",
   "metadata": {},
   "source": [
    "model 3: neg sample w2v VAE"
   ]
  },
  {
   "cell_type": "code",
   "execution_count": 59,
   "metadata": {},
   "outputs": [
    {
     "name": "stderr",
     "output_type": "stream",
     "text": [
      "/usr/local/lib/python3.4/dist-packages/tensorflow/python/ops/gradients_impl.py:91: UserWarning: Converting sparse IndexedSlices to a dense Tensor of unknown shape. This may consume a large amount of memory.\n",
      "  \"Converting sparse IndexedSlices to a dense Tensor of unknown shape. \"\n"
     ]
    }
   ],
   "source": [
    "pos_weight = tf.placeholder(tf.float32, [None, vocab.size()])\n",
    "mul_prob = tf.placeholder(tf.float32, [None, vocab.size()])\n",
    "word_weight = tf.placeholder(tf.float32, [None])\n",
    "pos_mask = tf.not_equal(pos_weight, 0)\n",
    "pos_count = tf.reduce_sum(tf.cast(pos_mask, tf.int32), axis=1)\n",
    "max_pos_count = tf.reduce_max(pos_count)\n",
    "batch_size = tf.shape(pos_weight)[0]\n",
    "# find pos index and sample neg index\n",
    "pos_ind = tf.boolean_mask(tf.reshape(tf.tile(tf.range(vocab.size()), [batch_size]), \n",
    "                                     [batch_size, vocab.size()]),  pos_mask) # [sum(pos_count)]\n",
    "def myargmax(tensor):\n",
    "    oh = tf.equal(tensor, tf.reduce_max(tensor, 1, keep_dims=True))\n",
    "    ind = tf.boolean_mask(tf.reshape(tf.tile(tf.range(tf.shape(tensor)[1]), [tf.shape(tensor)[0]]), \n",
    "                                 [tf.shape(tensor)[0], tf.shape(tensor)[1]]), oh)\n",
    "    return ind[:tf.shape(tensor)[0]]\n",
    "def multinomial_by_gambel_max(logits, k, num, batch=1000):\n",
    "    def sample_cond(step, num, batch, sample):\n",
    "        return tf.cond(tf.equal(num % batch, 0), lambda: step < num // batch, lambda: step < (num // batch) + 1)\n",
    "    def sample_body(step, num, batch, sample):\n",
    "        tbn = tf.minimum((step + 1) * batch, num) - step * batch\n",
    "        s = myargmax(logits + sample_gumbel([tbn, k]))\n",
    "        s = tf.stop_gradient(s)\n",
    "        return step + 1, num, batch, tf.concat([sample, s], axis=0)\n",
    "    #return myargmax(tf.reshape(tf.tile(logits, [num]), [num, k]) + sample_gumbel([num, k]))\n",
    "    _, _, _, s = tf.while_loop(sample_cond, sample_body, [tf.constant(0), num, batch, tf.constant([], dtype=tf.int32)], \n",
    "                              shape_invariants=[tf.TensorShape([]), tf.TensorShape([]), tf.TensorShape([]), tf.TensorShape([None])])\n",
    "    return s\n",
    "#neg_ind = tf.multinomial(tf.log(mul_prob), NS) # [BATCH_SIZE, NS]\n",
    "#neg_ind = tf.cast(tf.ones((BATCH_SIZE, NS)), tf.int32)\n",
    "neg_ind = tf.reshape(multinomial_by_gambel_max(tf.log(mul_prob[0]), vocab.size(), batch_size * NS), [batch_size, NS])\n",
    "# weight bias\n",
    "cla_w = tf.get_variable('classify_w', [vocab.size(), N_EMB])\n",
    "cla_b = tf.get_variable('classify_bias', [vocab.size()])\n",
    "# neg\n",
    "neg_logits = tf.squeeze(tf.matmul(tf.nn.embedding_lookup(cla_w, neg_ind), tf.expand_dims(temb, -1))) + tf.nn.embedding_lookup(cla_b, neg_ind)\n",
    "# pos\n",
    "postemb = tf.boolean_mask(tf.reshape(tf.tile(temb, [1, max_pos_count]), [batch_size, max_pos_count, N_EMB]), \n",
    "                        tf.range(max_pos_count) < tf.expand_dims(pos_count, -1))\n",
    "postemb = tf.reshape(postemb, [-1, N_EMB])\n",
    "pos_logits = tf.reduce_sum(postemb * tf.nn.embedding_lookup(cla_w, pos_ind), axis=1) + tf.nn.embedding_lookup(cla_b, pos_ind)\n",
    "# log loss\n",
    "p_pos = Bernoulli(logits=pos_logits)\n",
    "p_neg = Bernoulli(logits=neg_logits)\n",
    "allloss = tf.reduce_sum(p_pos.log_prob(1) * tf.boolean_mask(pos_weight, pos_mask)) + \\\n",
    "          tf.reduce_sum(tf.matmul(tf.expand_dims(word_weight, 0), p_neg.log_prob(0)))\n",
    "loss3 = - allloss / tf.cast(batch_size, tf.float32)\n",
    "train_op3 = tf.train.AdamOptimizer(learning_rate=lr).minimize(loss3)"
   ]
  },
  {
   "cell_type": "markdown",
   "metadata": {},
   "source": [
    "model 4: low variance neg sample w2v VAE"
   ]
  },
  {
   "cell_type": "code",
   "execution_count": 60,
   "metadata": {},
   "outputs": [
    {
     "name": "stderr",
     "output_type": "stream",
     "text": [
      "/usr/local/lib/python3.4/dist-packages/tensorflow/python/ops/gradients_impl.py:91: UserWarning: Converting sparse IndexedSlices to a dense Tensor of unknown shape. This may consume a large amount of memory.\n",
      "  \"Converting sparse IndexedSlices to a dense Tensor of unknown shape. \"\n"
     ]
    }
   ],
   "source": [
    "def neg_sample_cond(step, sample_num, sample, unique_sample, unique_sample_count, unique_sample_num):\n",
    "    return tf.shape(sample_num)[0] > 0\n",
    "def neg_sample_body(step, sample_num, sample, unique_sample, unique_sample_count, unique_sample_num):\n",
    "    ts = sample[:sample_num[0]]\n",
    "    #ts = sample[tf.cond(tf.equal(step, 0), lambda: 0, lambda: tf.reduce_sum(sample_num[:step])):\n",
    "    #            tf.reduce_sum(sample_num[:step+1])]\n",
    "    us, idx = tf.unique(ts)\n",
    "    #usc = tf.reduce_sum(tf.cast(tf.equal(ts, tf.expand_dims(us, -1)), tf.int32), 1)\n",
    "    usc = tf.foldl(\n",
    "        lambda usc, item: usc + tf.one_hot(\n",
    "            item, tf.shape(us)[0], dtype=tf.int32),\n",
    "        idx,\n",
    "        initializer=tf.zeros_like(us, dtype=tf.int32))\n",
    "    usn = tf.shape(us)    \n",
    "    return step + 1, sample_num[1:], sample[sample_num[0]:], \\\n",
    "           tf.concat([unique_sample, us], axis=0), tf.concat([unique_sample_count, usc], axis=0), \\\n",
    "           tf.concat([unique_sample_num, usn], axis=0)\n",
    "ns_frac = tf.constant(100.)\n",
    "neg_sample_num = tf.cast(word_weight * NS / ns_frac, tf.int32)\n",
    "neg_sample = multinomial_by_gambel_max(tf.log(mul_prob[0]), vocab.size(), tf.reduce_sum(neg_sample_num))\n",
    "_, _, _, neg_unique_sample, neg_unique_sample_count, neg_unique_sample_num = \\\n",
    "    tf.while_loop(neg_sample_cond, neg_sample_body, [tf.constant(0), neg_sample_num, neg_sample, \n",
    "                                                     tf.constant([], dtype=tf.int32),\n",
    "                                                     tf.constant([], dtype=tf.int32),\n",
    "                                                     tf.constant([], dtype=tf.int32)],\n",
    "                 shape_invariants=[tf.TensorShape([]), tf.TensorShape([None]), tf.TensorShape([None]), \n",
    "                                   tf.TensorShape([None]), tf.TensorShape([None]), tf.TensorShape([None])])\n",
    "def neg_logits_cond(step, neg_unique_sample_num, neg_unique_sample, temb, neg_logits):\n",
    "    return tf.shape(neg_unique_sample_num)[0] > 0\n",
    "def neg_logits_body(step, neg_unique_sample_num, neg_unique_sample, temb, neg_logits):\n",
    "    tus = neg_unique_sample[:neg_unique_sample_num[0]]\n",
    "    lo = tf.reduce_sum(tf.nn.embedding_lookup(cla_w, tus) * temb[0], axis=1) + \\\n",
    "         tf.nn.embedding_lookup(cla_b, tus)\n",
    "    return step + 1, neg_unique_sample_num[1:], neg_unique_sample[neg_unique_sample_num[0]:], \\\n",
    "           temb[1:], tf.concat([neg_logits, lo], axis=0)\n",
    "_, _, _, _, neg_sample_logits = tf.while_loop(neg_logits_cond, neg_logits_body, \n",
    "                                  [tf.constant(0), neg_unique_sample_num, neg_unique_sample,\n",
    "                                  temb, tf.constant([], dtype=tf.float32)],\n",
    "                                 shape_invariants=[tf.TensorShape([]), tf.TensorShape([None]), tf.TensorShape([None]),\n",
    "                                                  tf.TensorShape([None, N_EMB]), tf.TensorShape([None])])\n",
    "#max_neg_count = tf.reduce_max(neg_unique_sample_num)\n",
    "#negtemb = tf.boolean_mask(tf.reshape(tf.tile(temb, [1, max_neg_count]), [batch_size, max_neg_count, N_EMB]),\n",
    "#                         tf.range(max_neg_count) < tf.expand_dims(neg_unique_sample_num, -1))\n",
    "#negtemb = tf.reshape(negtemb, [-1, N_EMB])\n",
    "#neg_sample_logits = tf.reduce_sum(negtemb * tf.nn.embedding_lookup(cla_w, neg_unique_sample), axis=1) + \\\n",
    "#                    tf.nn.embedding_lookup(cla_b, neg_unique_sample)\n",
    "p_neg_sample = Bernoulli(logits=neg_sample_logits)\n",
    "allloss2 = tf.reduce_sum(p_pos.log_prob(1) * tf.boolean_mask(pos_weight, pos_mask))\n",
    "allloss2 = allloss2 + tf.reduce_sum(p_neg_sample.log_prob(0) * tf.cast(neg_unique_sample_count, tf.float32)) * ns_frac\n",
    "loss4 = - allloss2 / tf.cast(batch_size, tf.float32)\n",
    "train_op4 = tf.train.AdamOptimizer(learning_rate=lr).minimize(loss4)\n",
    "init_op = tf.global_variables_initializer()"
   ]
  },
  {
   "cell_type": "markdown",
   "metadata": {},
   "source": [
    "## 4. Train"
   ]
  },
  {
   "cell_type": "code",
   "execution_count": 66,
   "metadata": {},
   "outputs": [
    {
     "name": "stdout",
     "output_type": "stream",
     "text": [
      "['wages', 'mainly', 'five', 'government', 'credentials', 'workout', 'patrick', 'prevail', 'two', 'japan', 'freedom', 'inevitable', 'charged', 'million', 'one', 'financed', 'florida', 'rational', 'influenced', 'corn']\n"
     ]
    }
   ],
   "source": [
    "BATCH_SIZE = 20\n",
    "NUM_ITERS = 200\n",
    "tau0 = 1.0 # initial temperature\n",
    "np_tau = tau0\n",
    "np_lr = 0.01\n",
    "NS_FRAC = 100\n",
    "ANNEAL_RATE = 0.00003\n",
    "MIN_TEMP = 0.5\n",
    "VALID_WORDS = ['one', 'five', 'two', 'million', 'government', 'japan', 'inevitable', 'rational', 'florida', 'corn']\n",
    "VALID_WORDS = [vocab.encode(w) for w in VALID_WORDS] + np.random.permutation(vocab.size())[:10].tolist()\n",
    "VALID_WORDS = list(set(VALID_WORDS))\n",
    "print([vocab.decode(w) for w in VALID_WORDS])\n",
    "VALID_TOPK = 5"
   ]
  },
  {
   "cell_type": "code",
   "execution_count": 67,
   "metadata": {},
   "outputs": [
    {
     "name": "stderr",
     "output_type": "stream",
     "text": [
      "/home/zhuyutao/lightrnn/env_python3.4/lib/python3.4/site-packages/ipykernel_launcher.py:68: FutureWarning: comparison to `None` will result in an elementwise object comparison in the future.\n"
     ]
    },
    {
     "name": "stdout",
     "output_type": "stream",
     "text": [
      "Step 1, ELBO: 0.689, dEMB: 0.20054, wordsim corr: -0.13546\n",
      "\"wages\": \"bribe\", \"pour\", \"treated\", \"hospitals\", \"imagine\",\n",
      "\"mainly\": \"prerogatives\", \"public\", \"get\", \"recorders\", \"startling\",\n",
      "\"five\": \"impressed\", \"revived\", \"pressure\", \"bologna\", \"differences\",\n",
      "\"government\": \"murata\", \"write\", \"pregnant\", \"anti-takeover\", \"datapoint\",\n",
      "\"credentials\": \"carol\", \"aoun\", \"automatic\", \"toxin\", \"illustrate\",\n",
      "\"workout\": \"pressured\", \"exist\", \"receivables\", \"capitalism\", \"operation\",\n",
      "\"patrick\": \"azt\", \"aircraft\", \"fueled\", \"candidate\", \"improves\",\n",
      "\"prevail\": \"helicopter\", \"malignant\", \"hemorrhaging\", \"pilson\", \"instantly\",\n",
      "\"two\": \"commenting\", \"tva\", \"seniors\", \"cigarette\", \"true\",\n",
      "\"japan\": \"premium\", \"residence\", \"bugs\", \"injuries\", \"indicated\",\n",
      "\"freedom\": \"stronger\", \"doomed\", \"infection\", \"standpoint\", \"winter\",\n",
      "\"inevitable\": \"began\", \"rich\", \"week\", \"marketed\", \"dialing\",\n",
      "\"charged\": \"drilling\", \"retains\", \"individual\", \"wade\", \"thursday\",\n",
      "\"million\": \"fulfill\", \"covered\", \"c.d.s\", \"high-yield\", \"dapuzzo\",\n",
      "\"one\": \"kerry\", \"drawings\", \"year-end\", \"ashland\", \"w.\",\n",
      "\"financed\": \"best-known\", \"reputation\", \"participated\", \"resigning\", \"wheat\",\n",
      "\"florida\": \"terms\", \"flag\", \"automobile\", \"downward\", \"potential\",\n",
      "\"rational\": \"defective\", \"differ\", \"let\", \"unconsolidated\", \"wealth\",\n",
      "\"influenced\": \"rouge\", \"collapsed\", \"pessimistic\", \"unwanted\", \"advancing\",\n",
      "\"corn\": \"post-crash\", \"actual\", \"previous\", \"registered\", \"resorts\",\n"
     ]
    },
    {
     "ename": "KeyboardInterrupt",
     "evalue": "",
     "output_type": "error",
     "traceback": [
      "\u001b[0;31m---------------------------------------------------------------------------\u001b[0m",
      "\u001b[0;31mKeyboardInterrupt\u001b[0m                         Traceback (most recent call last)",
      "\u001b[0;32m<ipython-input-67-c1a824642255>\u001b[0m in \u001b[0;36m<module>\u001b[0;34m()\u001b[0m\n\u001b[1;32m     60\u001b[0m                     \u001b[0mword_weight\u001b[0m\u001b[0;34m:\u001b[0m \u001b[0mco_matrix_sum\u001b[0m\u001b[0;34m[\u001b[0m\u001b[0mtb\u001b[0m\u001b[0;34m]\u001b[0m\u001b[0;34m,\u001b[0m\u001b[0;34m\u001b[0m\u001b[0m\n\u001b[1;32m     61\u001b[0m                     \u001b[0mlr\u001b[0m\u001b[0;34m:\u001b[0m \u001b[0mnp_lr\u001b[0m\u001b[0;34m,\u001b[0m\u001b[0;34m\u001b[0m\u001b[0m\n\u001b[0;32m---> 62\u001b[0;31m                     \u001b[0mns_frac\u001b[0m\u001b[0;34m:\u001b[0m \u001b[0mNS_FRAC\u001b[0m\u001b[0;34m\u001b[0m\u001b[0m\n\u001b[0m\u001b[1;32m     63\u001b[0m                 })\n\u001b[1;32m     64\u001b[0m                 \u001b[0;32mif\u001b[0m \u001b[0mBINARY\u001b[0m \u001b[0;32mand\u001b[0m \u001b[0mWMF\u001b[0m\u001b[0;34m:\u001b[0m\u001b[0;34m\u001b[0m\u001b[0m\n",
      "\u001b[0;32m/usr/local/lib/python3.4/dist-packages/tensorflow/python/client/session.py\u001b[0m in \u001b[0;36mrun\u001b[0;34m(self, fetches, feed_dict, options, run_metadata)\u001b[0m\n\u001b[1;32m    765\u001b[0m     \u001b[0;32mtry\u001b[0m\u001b[0;34m:\u001b[0m\u001b[0;34m\u001b[0m\u001b[0m\n\u001b[1;32m    766\u001b[0m       result = self._run(None, fetches, feed_dict, options_ptr,\n\u001b[0;32m--> 767\u001b[0;31m                          run_metadata_ptr)\n\u001b[0m\u001b[1;32m    768\u001b[0m       \u001b[0;32mif\u001b[0m \u001b[0mrun_metadata\u001b[0m\u001b[0;34m:\u001b[0m\u001b[0;34m\u001b[0m\u001b[0m\n\u001b[1;32m    769\u001b[0m         \u001b[0mproto_data\u001b[0m \u001b[0;34m=\u001b[0m \u001b[0mtf_session\u001b[0m\u001b[0;34m.\u001b[0m\u001b[0mTF_GetBuffer\u001b[0m\u001b[0;34m(\u001b[0m\u001b[0mrun_metadata_ptr\u001b[0m\u001b[0;34m)\u001b[0m\u001b[0;34m\u001b[0m\u001b[0m\n",
      "\u001b[0;32m/usr/local/lib/python3.4/dist-packages/tensorflow/python/client/session.py\u001b[0m in \u001b[0;36m_run\u001b[0;34m(self, handle, fetches, feed_dict, options, run_metadata)\u001b[0m\n\u001b[1;32m    963\u001b[0m     \u001b[0;32mif\u001b[0m \u001b[0mfinal_fetches\u001b[0m \u001b[0;32mor\u001b[0m \u001b[0mfinal_targets\u001b[0m\u001b[0;34m:\u001b[0m\u001b[0;34m\u001b[0m\u001b[0m\n\u001b[1;32m    964\u001b[0m       results = self._do_run(handle, final_targets, final_fetches,\n\u001b[0;32m--> 965\u001b[0;31m                              feed_dict_string, options, run_metadata)\n\u001b[0m\u001b[1;32m    966\u001b[0m     \u001b[0;32melse\u001b[0m\u001b[0;34m:\u001b[0m\u001b[0;34m\u001b[0m\u001b[0m\n\u001b[1;32m    967\u001b[0m       \u001b[0mresults\u001b[0m \u001b[0;34m=\u001b[0m \u001b[0;34m[\u001b[0m\u001b[0;34m]\u001b[0m\u001b[0;34m\u001b[0m\u001b[0m\n",
      "\u001b[0;32m/usr/local/lib/python3.4/dist-packages/tensorflow/python/client/session.py\u001b[0m in \u001b[0;36m_do_run\u001b[0;34m(self, handle, target_list, fetch_list, feed_dict, options, run_metadata)\u001b[0m\n\u001b[1;32m   1013\u001b[0m     \u001b[0;32mif\u001b[0m \u001b[0mhandle\u001b[0m \u001b[0;32mis\u001b[0m \u001b[0;32mNone\u001b[0m\u001b[0;34m:\u001b[0m\u001b[0;34m\u001b[0m\u001b[0m\n\u001b[1;32m   1014\u001b[0m       return self._do_call(_run_fn, self._session, feed_dict, fetch_list,\n\u001b[0;32m-> 1015\u001b[0;31m                            target_list, options, run_metadata)\n\u001b[0m\u001b[1;32m   1016\u001b[0m     \u001b[0;32melse\u001b[0m\u001b[0;34m:\u001b[0m\u001b[0;34m\u001b[0m\u001b[0m\n\u001b[1;32m   1017\u001b[0m       return self._do_call(_prun_fn, self._session, handle, feed_dict,\n",
      "\u001b[0;32m/usr/local/lib/python3.4/dist-packages/tensorflow/python/client/session.py\u001b[0m in \u001b[0;36m_do_call\u001b[0;34m(self, fn, *args)\u001b[0m\n\u001b[1;32m   1020\u001b[0m   \u001b[0;32mdef\u001b[0m \u001b[0m_do_call\u001b[0m\u001b[0;34m(\u001b[0m\u001b[0mself\u001b[0m\u001b[0;34m,\u001b[0m \u001b[0mfn\u001b[0m\u001b[0;34m,\u001b[0m \u001b[0;34m*\u001b[0m\u001b[0margs\u001b[0m\u001b[0;34m)\u001b[0m\u001b[0;34m:\u001b[0m\u001b[0;34m\u001b[0m\u001b[0m\n\u001b[1;32m   1021\u001b[0m     \u001b[0;32mtry\u001b[0m\u001b[0;34m:\u001b[0m\u001b[0;34m\u001b[0m\u001b[0m\n\u001b[0;32m-> 1022\u001b[0;31m       \u001b[0;32mreturn\u001b[0m \u001b[0mfn\u001b[0m\u001b[0;34m(\u001b[0m\u001b[0;34m*\u001b[0m\u001b[0margs\u001b[0m\u001b[0;34m)\u001b[0m\u001b[0;34m\u001b[0m\u001b[0m\n\u001b[0m\u001b[1;32m   1023\u001b[0m     \u001b[0;32mexcept\u001b[0m \u001b[0merrors\u001b[0m\u001b[0;34m.\u001b[0m\u001b[0mOpError\u001b[0m \u001b[0;32mas\u001b[0m \u001b[0me\u001b[0m\u001b[0;34m:\u001b[0m\u001b[0;34m\u001b[0m\u001b[0m\n\u001b[1;32m   1024\u001b[0m       \u001b[0mmessage\u001b[0m \u001b[0;34m=\u001b[0m \u001b[0mcompat\u001b[0m\u001b[0;34m.\u001b[0m\u001b[0mas_text\u001b[0m\u001b[0;34m(\u001b[0m\u001b[0me\u001b[0m\u001b[0;34m.\u001b[0m\u001b[0mmessage\u001b[0m\u001b[0;34m)\u001b[0m\u001b[0;34m\u001b[0m\u001b[0m\n",
      "\u001b[0;32m/usr/local/lib/python3.4/dist-packages/tensorflow/python/client/session.py\u001b[0m in \u001b[0;36m_run_fn\u001b[0;34m(session, feed_dict, fetch_list, target_list, options, run_metadata)\u001b[0m\n\u001b[1;32m   1002\u001b[0m         return tf_session.TF_Run(session, options,\n\u001b[1;32m   1003\u001b[0m                                  \u001b[0mfeed_dict\u001b[0m\u001b[0;34m,\u001b[0m \u001b[0mfetch_list\u001b[0m\u001b[0;34m,\u001b[0m \u001b[0mtarget_list\u001b[0m\u001b[0;34m,\u001b[0m\u001b[0;34m\u001b[0m\u001b[0m\n\u001b[0;32m-> 1004\u001b[0;31m                                  status, run_metadata)\n\u001b[0m\u001b[1;32m   1005\u001b[0m \u001b[0;34m\u001b[0m\u001b[0m\n\u001b[1;32m   1006\u001b[0m     \u001b[0;32mdef\u001b[0m \u001b[0m_prun_fn\u001b[0m\u001b[0;34m(\u001b[0m\u001b[0msession\u001b[0m\u001b[0;34m,\u001b[0m \u001b[0mhandle\u001b[0m\u001b[0;34m,\u001b[0m \u001b[0mfeed_dict\u001b[0m\u001b[0;34m,\u001b[0m \u001b[0mfetch_list\u001b[0m\u001b[0;34m)\u001b[0m\u001b[0;34m:\u001b[0m\u001b[0;34m\u001b[0m\u001b[0m\n",
      "\u001b[0;31mKeyboardInterrupt\u001b[0m: "
     ]
    }
   ],
   "source": [
    "dat = []\n",
    "#sess = tf.InteractiveSession(config=tf.ConfigProto(allow_soft_placement=True, log_device_placement=True))\n",
    "sess = tf.InteractiveSession(config=tf.ConfigProto(log_device_placement=True))\n",
    "sess.run(init_op)\n",
    "np_emb_last = None #np.zeros((vocab.size(), N_EMB))\n",
    "for i in range(NUM_ITERS):\n",
    "    perm = np.random.permutation(vocab.size())\n",
    "    batch_num = math.ceil(vocab.size() / BATCH_SIZE)\n",
    "    for b in range(batch_num):\n",
    "        tb = perm[b*BATCH_SIZE:(b+1)*BATCH_SIZE]\n",
    "        np_x_ind = tb\n",
    "        np_x_onehot = np.zeros((len(tb), vocab.size()))\n",
    "        np_x_onehot[np.arange(len(tb)), tb] = 1\n",
    "        np_x = matrix[tb].toarray()\n",
    "        np_x_svd = matrix_svd[tb]\n",
    "        if BINARY and WMF:\n",
    "            np_x_weight = co_matrix_sum[tb].reshape(len(tb), 1) * co_matrix_sum * NS / np.sum(co_matrix_sum)\n",
    "            np_x_weight /= 1 - np_x\n",
    "            #print(np_x_weight[:, tb])\n",
    "            #input()\n",
    "        else:\n",
    "            np_x_weight = np.ones_like(np_x)\n",
    "        if USE_MODEL == 1:\n",
    "            _, np_loss, hv = sess.run([train_op, loss, y], {\n",
    "                x: np_x,\n",
    "                x_svd: np_x_svd,\n",
    "                x_weight: np_x_weight,\n",
    "                tau: np_tau,\n",
    "                lr: np_lr\n",
    "            })\n",
    "            if BINARY and WMF:  \n",
    "                np_loss = np_loss * BATCH_SIZE / np.sum(np_x_weight)\n",
    "            dat.append([i * batch_num + b, np_tau, np_loss])\n",
    "        elif USE_MODEL == 2 or USE_MODEL == 3 or USE_MODEL == 4:\n",
    "            if USE_MODEL == 2:\n",
    "                _, np_loss = sess.run([train_op2, loss2], {\n",
    "                    x: np_x,\n",
    "                    x_ind: np_x_ind,                \n",
    "                    x_weight: np_x_weight,\n",
    "                    lr: np_lr\n",
    "                })\n",
    "                if BINARY and WMF:  \n",
    "                    np_loss = np_loss * BATCH_SIZE / np.sum(np_x_weight)\n",
    "            elif USE_MODEL == 3:                \n",
    "                _, np_loss = sess.run([train_op3, loss3], {\n",
    "                    x_ind: np_x_ind, \n",
    "                    pos_weight: co_matrix[tb].toarray(),\n",
    "                    mul_prob: np.tile(co_matrix_sum, [BATCH_SIZE]).reshape(BATCH_SIZE, vocab.size()),\n",
    "                    word_weight: co_matrix_sum[tb],\n",
    "                    lr: np_lr\n",
    "                })\n",
    "                if BINARY and WMF:  \n",
    "                    np_loss = np_loss * BATCH_SIZE / np.sum(np_x_weight)\n",
    "            elif USE_MODEL == 4:                \n",
    "                #print(np.sum(co_matrix_sum[tb]))\n",
    "                _, np_loss, np_neg_unique_sample, np_neg_unique_sample_count = \\\n",
    "                sess.run([train_op4, loss4, neg_unique_sample, neg_unique_sample_count], {\n",
    "                    x_ind: np_x_ind, \n",
    "                    pos_weight: co_matrix[tb].toarray(),\n",
    "                    mul_prob: np.tile(co_matrix_sum, [BATCH_SIZE]).reshape(BATCH_SIZE, vocab.size()),\n",
    "                    word_weight: co_matrix_sum[tb],\n",
    "                    lr: np_lr,\n",
    "                    ns_frac: NS_FRAC\n",
    "                })\n",
    "                if BINARY and WMF:  \n",
    "                    np_loss = np_loss * BATCH_SIZE / np.sum(np_x_weight)\n",
    "            # emb change\n",
    "            np_emb = emb.eval(sess)\n",
    "            if np_emb_last == None:\n",
    "                np_emb_last = np_emb\n",
    "            emb_change = np.sum(np.square(np_emb_last - np_emb))\n",
    "            np_emb_last = np_emb\n",
    "            # wordsim\n",
    "            np_norm_emb = sess.run(normalized_emb)\n",
    "            nsims = [-dist.cosine(np_norm_emb[vocab.encode(p[0])], np_norm_emb[vocab.encode(p[1])]) \n",
    "                     for p in wordsim]\n",
    "            corr = stats.spearmanr(nsims, [p[2] for p in wordsim]).correlation\n",
    "            dat.append([i * batch_num + b, np_tau, np_loss, emb_change, corr])\n",
    "            # model 4 neg sample track\n",
    "            #print(len(np_neg_unique_sample), np.sum(co_matrix_sum[tb] != 0), np.sum(np_neg_unique_sample_count), np.sum(co_matrix_sum[tb]) * NS / NS_FRAC)\n",
    "            #rsp = np.random.permutation(len(np_neg_unique_sample))[:20]\n",
    "            #print(np_neg_unique_sample[rsp], np_neg_unique_sample_count[rsp])\n",
    "        if (i * batch_num + b) % 500 == 1:        \n",
    "            np_lr *= 0.9\n",
    "        if (i * batch_num + b) % 100 == 1:\n",
    "            print('Step %d, ELBO: %0.3f, dEMB: %0.5f, wordsim corr: %0.5f' % (i * batch_num + b, np_loss, emb_change, corr))\n",
    "        if (i * batch_num + b) % 250 == 1:\n",
    "            siml_val = sess.run(siml, {\n",
    "                x_ind_valid: VALID_WORDS,\n",
    "            })\n",
    "            for w in range(len(VALID_WORDS)):\n",
    "                valid_word = vocab.decode(VALID_WORDS[w])\n",
    "                nearest = (-siml_val[w, :]).argsort()[1:VALID_TOPK+1]\n",
    "                log_str = '\"%s\":' % valid_word\n",
    "                for tk in range(VALID_TOPK):\n",
    "                    close_word = vocab.decode(nearest[tk])\n",
    "                    log_str = '%s \"%s\",' % (log_str, close_word)\n",
    "                print(log_str)"
   ]
  },
  {
   "cell_type": "code",
   "execution_count": null,
   "metadata": {
    "scrolled": false
   },
   "outputs": [],
   "source": [
    "sorted([(k, finder.ngram_fd[k]) for k in finder.ngram_fd if 'japan' in k], key=lambda x:-x[1])[:50]"
   ]
  },
  {
   "cell_type": "markdown",
   "metadata": {
    "collapsed": true
   },
   "source": [
    "## 5. Plot"
   ]
  },
  {
   "cell_type": "code",
   "execution_count": 63,
   "metadata": {
    "scrolled": false
   },
   "outputs": [
    {
     "data": {
      "image/png": "[encoded data removed]",
      "text/plain": [
       "<matplotlib.figure.Figure at 0x7f4121206e48>"
      ]
     },
     "metadata": {},
     "output_type": "display_data"
    }
   ],
   "source": [
    "np_dat = np.array(dat).T\n",
    "f, axarr = plt.subplots(2, (np_dat.shape[0]-1))\n",
    "f.set_size_inches((20,10))\n",
    "ylabels = ['Temperature', '-ELBO', 'dEMB', 'wordsim']\n",
    "for i in range(np_dat.shape[0] - 1):\n",
    "    axarr[0][i].plot(np_dat[0], np_dat[i+1])\n",
    "    axarr[0][i].set_ylabel(ylabels[i])\n",
    "for i in range(np_dat.shape[0] - 1):\n",
    "    axarr[1][i].plot(np_dat[0, 2000:], np_dat[i+1, 2000:])\n",
    "    axarr[1][i].set_ylabel(ylabels[i])"
   ]
  },
  {
   "cell_type": "code",
   "execution_count": null,
   "metadata": {
    "collapsed": true
   },
   "outputs": [],
   "source": [
    "np.sum(np.square(emb.eval(sess)))"
   ]
  },
  {
   "cell_type": "markdown",
   "metadata": {},
   "source": [
    "## 6. Generation"
   ]
  },
  {
   "cell_type": "code",
   "execution_count": null,
   "metadata": {
    "collapsed": true
   },
   "outputs": [],
   "source": [
    "M=100*N\n",
    "np_y = np.zeros((M,K))\n",
    "np_y[range(M),np.random.choice(K,M)] = 1\n",
    "np_y = np.reshape(np_y,[100,N,K])"
   ]
  },
  {
   "cell_type": "code",
   "execution_count": null,
   "metadata": {
    "collapsed": true
   },
   "outputs": [],
   "source": [
    "x_p=p_x.mean()\n",
    "np_x= sess.run(x_p,{y:np_y})\n",
    "# generated samples processing\n",
    "np_x = np_x.argsort(axis=1)\n",
    "np_x = np_x[:, -10:]\n",
    "np_x_word = [vocab.decode(np_x[i].tolist()) for i in range(np_x.shape[0])]\n",
    "_ = [print(s.tolist()) for s in np_x]\n",
    "_ = [print(s) for s in np_x_word]"
   ]
  },
  {
   "cell_type": "markdown",
   "metadata": {},
   "source": [
    "## 7. Visualize the Embedding"
   ]
  },
  {
   "cell_type": "code",
   "execution_count": null,
   "metadata": {
    "collapsed": true
   },
   "outputs": [],
   "source": [
    "def plot_with_labels(low_dim_embs, labels, filename='tsne.png'):\n",
    "    assert low_dim_embs.shape[0] >= len(labels), \"More labels than embeddings\"\n",
    "    plt.figure(figsize=(18, 18))  #in inches\n",
    "    for i, label in enumerate(labels):\n",
    "        x, y = low_dim_embs[i,:]\n",
    "        plt.scatter(x, y)\n",
    "        plt.annotate(label,\n",
    "                 xy=(x, y),\n",
    "                 xytext=(5, 2),\n",
    "                 textcoords='offset points',\n",
    "                 ha='right',\n",
    "                 va='bottom')\n",
    "    plt.show()\n",
    "    \n",
    "# Plot\n",
    "final_embeddings = sess.run(normalized_emb)\n",
    "tsne = TSNE(perplexity=30, n_components=2, init='pca', n_iter=5000)\n",
    "plot_only = np.random.permutation(vocab.size())[:500]\n",
    "low_dim_embs = tsne.fit_transform(final_embeddings[plot_only])\n",
    "labels = [vocab.decode(i) for i in plot_only]\n",
    "plot_with_labels(low_dim_embs, labels)"
   ]
  },
  {
   "cell_type": "code",
   "execution_count": null,
   "metadata": {
    "collapsed": true
   },
   "outputs": [],
   "source": []
  }
 ],
 "metadata": {
  "kernelspec": {
   "display_name": "Python 3",
   "language": "python",
   "name": "python3"
  },
  "language_info": {
   "codemirror_mode": {
    "name": "ipython",
    "version": 3
   },
   "file_extension": ".py",
   "mimetype": "text/x-python",
   "name": "python",
   "nbconvert_exporter": "python",
   "pygments_lexer": "ipython3",
   "version": "3.4.3"
  }
 },
 "nbformat": 4,
 "nbformat_minor": 2
}
